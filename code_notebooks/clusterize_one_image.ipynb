{
 "cells": [
  {
   "cell_type": "code",
   "execution_count": null,
   "metadata": {},
   "outputs": [],
   "source": [
    "import cv2\n",
    "import numpy as np\n",
    "import matplotlib.pyplot as plt\n",
    "from sklearn.cluster import KMeans\n",
    "from sklearn.utils import shuffle"
   ]
  },
  {
   "cell_type": "code",
   "execution_count": null,
   "metadata": {},
   "outputs": [],
   "source": [
    "n_colors = 7"
   ]
  },
  {
   "cell_type": "code",
   "execution_count": null,
   "metadata": {},
   "outputs": [],
   "source": [
    "# Load input image\n",
    "input_image = cv2.imread(\"../data/example.jpeg\")\n",
    "input_image = cv2.cvtColor(input_image, cv2.COLOR_BGR2RGB)\n",
    "\n",
    "# Transform image\n",
    "input_image = np.array(input_image, dtype=np.float64) / 255\n",
    "w, h, d = original_shape = tuple(input_image.shape)\n",
    "assert d == 3\n",
    "image_array = np.reshape(input_image, (w * h, d))\n",
    "\n",
    "# Display image\n",
    "plt.clf()\n",
    "plt.axis(\"off\")\n",
    "plt.title(\"Original image (96,615 colors)\")\n",
    "plt.imshow(input_image)\n",
    "plt.show()"
   ]
  },
  {
   "cell_type": "code",
   "execution_count": null,
   "metadata": {},
   "outputs": [],
   "source": [
    "# Fitting model on a small sub-sample of the data\n",
    "image_array_sample = shuffle(image_array, random_state=0, n_samples=1_000)\n",
    "kmeans = KMeans(n_clusters=n_colors, n_init=\"auto\", random_state=0).fit(\n",
    "    image_array_sample\n",
    ")\n",
    "\n",
    "# Get labels for all points\n",
    "# Predicting color indices on the full image\n",
    "labels = kmeans.predict(image_array)\n",
    "\n",
    "# Display quantized image\n",
    "plt.clf()\n",
    "plt.axis(\"off\")\n",
    "plt.title(f\"Quantized image ({n_colors} colors, K-Means)\")\n",
    "plt.imshow(kmeans.cluster_centers_[labels].reshape(w, h, -1))\n",
    "plt.show()"
   ]
  },
  {
   "cell_type": "code",
   "execution_count": null,
   "metadata": {},
   "outputs": [],
   "source": [
    "# Display palette\n",
    "fig, ax = plt.subplots()\n",
    "palette_color_list = (kmeans.cluster_centers_ * 255).astype(int)\n",
    "for i, color in enumerate(palette_color_list):\n",
    "    hexa = '#%s' % ''.join(('%02x' % p for p in color))  # rgb to hex\n",
    "    print(f\"Color #{i + 1}: {hexa} ({100 * np.count_nonzero(labels == i) / labels.size:.2f}%)\")\n",
    "    ax.bar(i, 1, color=hexa)\n",
    "ax.set_axis_off()\n",
    "plt.title(\"Color palette\")\n",
    "plt.show()"
   ]
  }
 ],
 "metadata": {
  "kernelspec": {
   "display_name": "perso",
   "language": "python",
   "name": "python3"
  },
  "language_info": {
   "codemirror_mode": {
    "name": "ipython",
    "version": 3
   },
   "file_extension": ".py",
   "mimetype": "text/x-python",
   "name": "python",
   "nbconvert_exporter": "python",
   "pygments_lexer": "ipython3",
   "version": "3.11.3"
  },
  "orig_nbformat": 4
 },
 "nbformat": 4,
 "nbformat_minor": 2
}
