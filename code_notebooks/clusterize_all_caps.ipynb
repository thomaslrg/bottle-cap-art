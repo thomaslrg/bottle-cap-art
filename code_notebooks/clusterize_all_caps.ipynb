{
 "cells": [
  {
   "cell_type": "code",
   "execution_count": null,
   "metadata": {},
   "outputs": [],
   "source": [
    "import cv2\n",
    "import numpy as np\n",
    "import matplotlib.pyplot as plt\n",
    "import pandas as pd\n",
    "import os\n",
    "from sklearn.cluster import KMeans\n",
    "from sklearn.utils import shuffle\n",
    "from tqdm import tqdm"
   ]
  },
  {
   "cell_type": "code",
   "execution_count": null,
   "metadata": {},
   "outputs": [],
   "source": [
    "n_colors = 7"
   ]
  },
  {
   "cell_type": "code",
   "execution_count": null,
   "metadata": {},
   "outputs": [],
   "source": [
    "# We count each pixel of each capsule image is counted as many times as there are capsules in the dataset\n",
    "# As this is a very long process, we save the result in a file and load it if it exists\n",
    "if not os.path.isfile(\"all_caps_pixels_array.npy\"):\n",
    "\n",
    "    # init image array with shape (0, 3)\n",
    "    all_caps_pixels_array = np.empty((0, 3), float)\n",
    "\n",
    "    # Load all caps\n",
    "    dataset = pd.read_csv(\"../data/my_dataset.csv\", sep=';', index_col='id')\n",
    "    for identifier, row in tqdm(dataset.iterrows(), total=dataset.shape[0]):\n",
    "        count = row['count']\n",
    "\n",
    "        input_image = cv2.imread(f\"../data/my_caps/{identifier}.png\")\n",
    "        input_image = cv2.cvtColor(input_image, cv2.COLOR_BGR2RGB)\n",
    "        input_image = np.array(input_image, dtype=np.float64) / 255\n",
    "        input_image = cv2.resize(input_image, (58, 58), interpolation=cv2.INTER_AREA)\n",
    "        w, h, d = tuple(input_image.shape)\n",
    "        assert d == 3\n",
    "\n",
    "        # Keep only the pixels inside the inscribed circle\n",
    "        # TODO: use library get_caps_patch ?\n",
    "        center = (w // 2, h // 2)\n",
    "        radius = min(w, h) // 2\n",
    "        mask = np.zeros((w, h), dtype=np.uint8)\n",
    "        cv2.circle(mask, center, radius, 1, thickness=-1)\n",
    "\n",
    "        # Append to all_caps_pixels_array only the pixels inside the circle\n",
    "        # do it `count` times\n",
    "        for _ in range(count):\n",
    "            all_caps_pixels_array = np.append(all_caps_pixels_array, input_image[mask == 1], axis=0)\n",
    "\n",
    "    print(f\"all_caps_pixels_array.shape: {all_caps_pixels_array.shape}\")\n",
    "\n",
    "    # save all_caps_pixels_array to a file\n",
    "    np.save(\"all_caps_pixels_array.npy\", all_caps_pixels_array)"
   ]
  },
  {
   "cell_type": "code",
   "execution_count": null,
   "metadata": {},
   "outputs": [],
   "source": [
    "# load all_caps_pixels_array from a file\n",
    "all_caps_pixels_array = np.load(\"all_caps_pixels_array.npy\")"
   ]
  },
  {
   "cell_type": "code",
   "execution_count": null,
   "metadata": {},
   "outputs": [],
   "source": [
    "# Fitting model on a small sub-sample of the data\n",
    "image_array_sample = shuffle(all_caps_pixels_array, random_state=0, n_samples=1_000)\n",
    "kmeans = KMeans(n_clusters=n_colors, n_init=\"auto\", random_state=0).fit(\n",
    "    image_array_sample\n",
    ")\n",
    "\n",
    "# Get labels for all points\n",
    "# Predicting color indices on the full image\n",
    "labels = kmeans.predict(all_caps_pixels_array)\n",
    "\n",
    "fig, ax = plt.subplots()\n",
    "# Display palette\n",
    "palette_color_list = (kmeans.cluster_centers_ * 255).astype(int)\n",
    "for i, color in enumerate(palette_color_list):\n",
    "    hexa = '#%s' % ''.join(('%02x' % p for p in color))  # rgb to hex\n",
    "    print(f\"Color #{i + 1}: {hexa} ({100 * np.count_nonzero(labels == i) / labels.size:.2f}%)\")\n",
    "    ax.bar(i, 1, color=hexa)\n",
    "ax.set_axis_off()\n",
    "plt.title(\"Dataset color palette\")\n",
    "plt.show()"
   ]
  }
 ],
 "metadata": {
  "kernelspec": {
   "display_name": "perso",
   "language": "python",
   "name": "python3"
  },
  "language_info": {
   "codemirror_mode": {
    "name": "ipython",
    "version": 3
   },
   "file_extension": ".py",
   "mimetype": "text/x-python",
   "name": "python",
   "nbconvert_exporter": "python",
   "pygments_lexer": "ipython3",
   "version": "3.11.3"
  },
  "orig_nbformat": 4
 },
 "nbformat": 4,
 "nbformat_minor": 2
}
