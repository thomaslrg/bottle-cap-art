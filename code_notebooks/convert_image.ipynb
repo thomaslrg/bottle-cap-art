{
 "cells": [
  {
   "cell_type": "code",
   "execution_count": null,
   "metadata": {},
   "outputs": [],
   "source": [
    "import numpy as np\n",
    "from sklearn.cluster import KMeans\n",
    "import cv2\n",
    "import matplotlib.pyplot as plt"
   ]
  },
  {
   "cell_type": "code",
   "execution_count": null,
   "metadata": {},
   "outputs": [],
   "source": [
    "def get_color_palette(img, n_colors):\n",
    "    # Calculate the color palette of the image\n",
    "    img_array = np.array(img)\n",
    "    img_array = img_array.reshape((img_array.shape[0] * img_array.shape[1], 3))\n",
    "    kmeans = KMeans(n_clusters=n_colors, random_state=0, n_init=\"auto\").fit(img_array)\n",
    "    color_palette = kmeans.cluster_centers_\n",
    "    return color_palette"
   ]
  },
  {
   "cell_type": "code",
   "execution_count": null,
   "metadata": {},
   "outputs": [],
   "source": [
    "def replace_colors(img, palette_a, palette_b):\n",
    "    # Replace the colors of the image according to the palettes\n",
    "    img_array = np.array(img)\n",
    "    img_shape = img_array.shape\n",
    "    img_array = img_array.reshape((img_shape[0] * img_shape[1], 3))\n",
    "    index_a = np.argmin(np.linalg.norm(img_array[:, None, :] - palette_a[None, :, :], axis=-1), axis=1)\n",
    "    new_colors = palette_b[index_a]\n",
    "    new_img_array = new_colors.reshape((img_shape[0] * img_shape[1], 3))\n",
    "    new_img_array = np.uint8(np.round(new_img_array))\n",
    "    new_img = new_img_array.reshape((img_shape[0], img_shape[1], 3))\n",
    "    return new_img"
   ]
  },
  {
   "cell_type": "code",
   "execution_count": null,
   "metadata": {},
   "outputs": [],
   "source": [
    "# Load input image\n",
    "img = cv2.imread(\"../data/example.jpeg\")\n",
    "img = cv2.cvtColor(img, cv2.COLOR_BGR2RGB)\n",
    "\n",
    "# Display the input image\n",
    "plt.clf()\n",
    "plt.axis(\"off\")\n",
    "plt.title(f\"Input image\")\n",
    "plt.imshow(img)\n",
    "plt.show()"
   ]
  },
  {
   "cell_type": "code",
   "execution_count": null,
   "metadata": {},
   "outputs": [],
   "source": [
    "# Calculate the color palette of the image\n",
    "palette_a = get_color_palette(img, 3)\n",
    "\n",
    "# Define output color palette\n",
    "palette_b = np.array([\n",
    "    [8, 16, 63],\n",
    "    [193, 199, 196],\n",
    "    [142, 132, 107],\n",
    "    [154, 19, 15],\n",
    "    [82, 86, 69],\n",
    "    [17, 101, 48],\n",
    "    [8, 8, 7],\n",
    "])\n",
    "palette_b = palette_b[:, [2, 1, 0]]\n",
    "\n",
    "# Replace the colors of the input image according to the output palette\n",
    "new_img = replace_colors(img, palette_a, palette_b)\n",
    "\n",
    "# Display the input and output images\n",
    "plt.clf()\n",
    "plt.axis(\"off\")\n",
    "plt.title(f\"Output image\")\n",
    "plt.imshow(new_img)\n",
    "plt.show()"
   ]
  }
 ],
 "metadata": {
  "kernelspec": {
   "display_name": "perso",
   "language": "python",
   "name": "python3"
  },
  "language_info": {
   "codemirror_mode": {
    "name": "ipython",
    "version": 3
   },
   "file_extension": ".py",
   "mimetype": "text/x-python",
   "name": "python",
   "nbconvert_exporter": "python",
   "pygments_lexer": "ipython3",
   "version": "3.11.3"
  },
  "orig_nbformat": 4
 },
 "nbformat": 4,
 "nbformat_minor": 2
}
